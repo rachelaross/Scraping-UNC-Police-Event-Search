{
 "cells": [
  {
   "cell_type": "code",
   "execution_count": 7,
   "metadata": {},
   "outputs": [],
   "source": [
    "import re\n",
    "import datetime as dt\n",
    "from datetime import date\n",
    "from bs4 import BeautifulSoup\n",
    "import selenium\n",
    "from selenium import webdriver\n",
    "from selenium.webdriver.common.keys import Keys\n",
    "import csv"
   ]
  },
  {
   "cell_type": "code",
   "execution_count": 8,
   "metadata": {},
   "outputs": [
    {
     "name": "stdout",
     "output_type": "stream",
     "text": [
      "415\n"
     ]
    }
   ],
   "source": [
    "def getNumDays(begin_date):\n",
    "    end_date = date(2018, 9, 26)\n",
    "    delta = end_date - begin_date\n",
    "    days_between = delta.days\n",
    "    \n",
    "    return(days_between)"
   ]
  },
  {
   "cell_type": "code",
   "execution_count": null,
   "metadata": {},
   "outputs": [],
   "source": [
    "def getDate(x, begin_date):\n",
    "    currentDate = begin_date + dt.timedelta(x)\n",
    "    print(currentDate)\n",
    "    return currentDate"
   ]
  },
  {
   "cell_type": "code",
   "execution_count": 17,
   "metadata": {},
   "outputs": [],
   "source": [
    "def enterDate(date):\n",
    "    selectMonth = driver.find_element_by_name('cpMonth')\n",
    "    for option in selectMonth.find_elements_by_tag_name('option'):\n",
    "        if(option.get_attribute('value') == str(date.month)):\n",
    "            option.click()\n",
    "            break\n",
    "    \n",
    "    selectYear = driver.find_element_by_name('cpYear')\n",
    "    for option in selectYear.find_elements_by_tag_name('option'):\n",
    "        if(option.get_attribute('value') == str(date.year)):\n",
    "            option.click()\n",
    "            break\n",
    "           \n",
    "    thisDay = str(date.day)   \n",
    "    days = driver.find_elements_by_xpath(\"//a[@class='cpCurrentMonthDate']\")\n",
    "    for day in days:\n",
    "        if(day.text == thisDay):\n",
    "            day.click()\n",
    "            break"
   ]
  },
  {
   "cell_type": "code",
   "execution_count": null,
   "metadata": {},
   "outputs": [],
   "source": [
    "def formatRow(cols):\n",
    "    newCols = []\n",
    "    \n",
    "    newCols.append(str(cols[0]))\n",
    "    newCols.append(re.search('\\d+/\\d+/\\d+', str(cols[1])).group(0))\n",
    "    newCols.append(re.search('\\d+:\\d+', str(cols[1])).group(0))\n",
    "    newCols.append(str(cols[2]))\n",
    "    if(cols[2] == 'Accident'):\n",
    "        newCols.append(re.search('Accident #: \\d+', str(cols[3])).group(0))\n",
    "        newCols.append('')\n",
    "        newCols.append('')\n",
    "        newCols.append('')\n",
    "        newCols.append('')\n",
    "    elif cols[2] == 'Arrest':\n",
    "        newCols.append('')\n",
    "        try:\n",
    "            newCols.append(re.search('Arrestee: .+, .*[^Charge:]', str(cols[3])).group(0))\n",
    "        except:\n",
    "            newCols.append('Arrestee: Expunged,')\n",
    "        newCols.append(re.search('Charge: .+', str(cols[3])).group(0))\n",
    "        newCols.append('')\n",
    "        newCols.append('')\n",
    "    elif cols[2] == 'Incident':\n",
    "        newCols.append('')\n",
    "        newCols.append('')\n",
    "        newCols.append('')\n",
    "        newCols.append(re.search('Case #: \\d+', str(cols[3])).group(0))\n",
    "        newCols.append(re.search('Primary Offense: .+', str(cols[3])).group(0))\n",
    "    newCols.append(str(cols[4]))\n",
    "    \n",
    "    cleanCols = []\n",
    "    for item in newCols:\n",
    "        cleanCols.append(item.strip())\n",
    "    \n",
    "    return cleanCols"
   ]
  },
  {
   "cell_type": "code",
   "execution_count": null,
   "metadata": {},
   "outputs": [],
   "source": [
    "def getNumPages():\n",
    "    try:\n",
    "        total_pages = driver.find_element_by_id('mainContent_lblPageCount')\n",
    "        total_pages = total_pages.text\n",
    "        total_pages = re.search('of \\d+', total_pages).group(0)\n",
    "        total_pages = int(re.search('\\d+', total_pages).group(0))\n",
    "        return total_pages\n",
    "    except:\n",
    "        return 1"
   ]
  },
  {
   "cell_type": "code",
   "execution_count": null,
   "metadata": {},
   "outputs": [],
   "source": [
    "def handleTable(numPages, file, writer):\n",
    "    for i in range(1,numPages+1):\n",
    "        stripedRows = driver.find_elements_by_xpath(\"//tr[@class='table-striped-row']\")\n",
    "        for row in stripedRows:\n",
    "            newRow = []\n",
    "            values = row.find_elements_by_tag_name('td')\n",
    "            for value in values:\n",
    "                newRow.append(value.text)\n",
    "            strRow = formatRow(newRow)\n",
    "            writer.writerow(strRow)\n",
    "\n",
    "        nonstripedRows = driver.find_elements_by_xpath(\"//tr[@class='table-nonstriped-row']\")\n",
    "        for row in nonstripedRows:\n",
    "            newRow = []\n",
    "            values = row.find_elements_by_tag_name('td')\n",
    "            for value in values:\n",
    "                newRow.append(value.text)\n",
    "            strRow = formatRow(newRow)\n",
    "            writer.writerow(strRow)\n",
    "            \n",
    "        if(i < numPages):    \n",
    "            link = driver.find_element_by_link_text(str(i+1))\n",
    "            link.click()"
   ]
  },
  {
   "cell_type": "code",
   "execution_count": null,
   "metadata": {},
   "outputs": [],
   "source": [
    "days = getNumDays()\n",
    "starting_page = 'http://p2c.chpd.us/Summary_Disclaimer.aspx'\n",
    "street_num = \"207\"\n",
    "street = \"SOUTH ROAD\"\n",
    "begin_date = date(2017, 8, 1)\n",
    "end_date = '9/20/2018'\n",
    "\n",
    "for i in days:\n",
    "    "
   ]
  },
  {
   "cell_type": "code",
   "execution_count": null,
   "metadata": {},
   "outputs": [],
   "source": [
    "path = 'CH_reports.csv'\n",
    "headers = ['Event', 'Date', 'Time', 'Type','Accident_Number', 'Arrestee', 'Charge', \n",
    "           'Case_Number','Primary_Offense', 'Location']\n",
    "with open(path, 'w') as csvFile:\n",
    "    writer = csv.writer(csvFile, delimiter=',')\n",
    "    writer.writerow(headers)\n",
    "\n",
    "    starting_page = 'https://p2c.police.unc.edu/Summary_Disclaimer.aspx'\n",
    "    begin_date = date(2017, 8, 1)\n",
    "    days = getNumDays(begin_date)\n",
    "\n",
    "    driver = webdriver.Chrome(executable_path='/Users/radair/Documents/chromedriver')\n",
    "    driver.implicitly_wait(60)\n",
    "    driver.get(starting_page)\n",
    "\n",
    "    driver.find_element_by_id('mainContent_btnContinue').click()\n",
    "\n",
    "    for i in range(0,days):\n",
    "        current_date = getDate(i, begin_date)\n",
    "        fromDate = driver.find_element_by_id('mainContent_txtDateFrom_imgDatePicker')\n",
    "        fromDate.click()\n",
    "        enterDate(current_date)\n",
    "\n",
    "        toDate = driver.find_element_by_id('mainContent_txtDateTo_imgDatePicker')\n",
    "        toDate.click()\n",
    "        enterDate(current_date)\n",
    "\n",
    "        driver.find_element_by_id('mainContent_cmdSubmit').click()\n",
    "\n",
    "        numPages = getNumPages()\n",
    "        handleTable(numPages, csvFile, writer)\n",
    "\n",
    "        driver.find_element_by_id('mainContent_btnReset').click()"
   ]
  }
 ],
 "metadata": {
  "kernelspec": {
   "display_name": "Python 2",
   "language": "python",
   "name": "python2"
  },
  "language_info": {
   "codemirror_mode": {
    "name": "ipython",
    "version": 2
   },
   "file_extension": ".py",
   "mimetype": "text/x-python",
   "name": "python",
   "nbconvert_exporter": "python",
   "pygments_lexer": "ipython2",
   "version": "2.7.15"
  }
 },
 "nbformat": 4,
 "nbformat_minor": 2
}
